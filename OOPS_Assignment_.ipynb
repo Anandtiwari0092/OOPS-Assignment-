{
  "nbformat": 4,
  "nbformat_minor": 0,
  "metadata": {
    "colab": {
      "provenance": []
    },
    "kernelspec": {
      "name": "python3",
      "display_name": "Python 3"
    },
    "language_info": {
      "name": "python"
    }
  },
  "cells": [
    {
      "cell_type": "markdown",
      "source": [
        "1. What is Object-Oriented Programming OOP ?\n"
      ],
      "metadata": {
        "id": "FEwm4iq5SF2S"
      }
    },
    {
      "cell_type": "code",
      "source": [
        "# Object-Oriented Programming (OOP) is a programming paradigm based on the concept of \"objects,\" which can contain data (called attributes) and code (called methods).\n"
      ],
      "metadata": {
        "id": "HnVt7d4PSHNI"
      },
      "execution_count": null,
      "outputs": []
    },
    {
      "cell_type": "markdown",
      "source": [
        "2. What is a class in OOPs ?\n"
      ],
      "metadata": {
        "id": "Dng8PKjsSktT"
      }
    },
    {
      "cell_type": "code",
      "source": [
        "# In Object-Oriented Programming (OOP), a class is like a blueprint or template for creating objects.\n"
      ],
      "metadata": {
        "id": "aAJOLO3USyk4"
      },
      "execution_count": null,
      "outputs": []
    },
    {
      "cell_type": "markdown",
      "source": [
        "3. What is an object in OOP ?\n"
      ],
      "metadata": {
        "id": "b50-R0o7cq6E"
      }
    },
    {
      "cell_type": "code",
      "source": [
        "# Ans - An object is a thing created from a class. It has some data and can do some actions. It is used to represent real-world things in a program."
      ],
      "metadata": {
        "id": "yE8Ez8GQctRW"
      },
      "execution_count": null,
      "outputs": []
    },
    {
      "cell_type": "markdown",
      "source": [
        "4. What is the difference between abstraction and encapsulation\n"
      ],
      "metadata": {
        "id": "zyD4P4IHSx7b"
      }
    },
    {
      "cell_type": "code",
      "source": [
        "# Ans -> 1. Abstraction\n",
        "# - abstraction is the process of hinding complex detail and showing the only the important things.\n",
        "# - it used to reduce complexity and to make system easier to use.\n",
        "\n",
        "# 2. Encapsulation ->\n",
        "# - Encapsulation is the process of wrapping data (variables) and code (methods) into a single unit (class), and restricting direct access to some components.\n",
        "# - it is used to protect the internal state and behavior of an object.\n"
      ],
      "metadata": {
        "id": "O2N7-EPnTXZO"
      },
      "execution_count": null,
      "outputs": []
    },
    {
      "cell_type": "markdown",
      "source": [
        "5.  What are dunder methods in Python ?\n"
      ],
      "metadata": {
        "id": "ev7mD9VHcY0t"
      }
    },
    {
      "cell_type": "code",
      "source": [
        "# Ans - Dunder methods in Python are special methods that have double underscores at the beginning and end of their names, like __init__, __str__, or __len__.\n",
        "# They help define how your objects behave. For example:\n",
        "# 1. (__init__) runs when you create an object.\n",
        "# 2. (__str__) tells Python how to print your object.\n",
        "# 3. (__add__) lets you use + between objects.\n"
      ],
      "metadata": {
        "id": "WI1FNgF6dcvk"
      },
      "execution_count": null,
      "outputs": []
    },
    {
      "cell_type": "markdown",
      "source": [
        "6. Explain the concept of inheritance in OOP.\n"
      ],
      "metadata": {
        "id": "kci-a72_eo1z"
      }
    },
    {
      "cell_type": "code",
      "source": [
        "# Ans - Inheritance in OOP is like creating a new class based on an existing class.\n",
        "# It allows the new class (called the child class) to inherit the attributes and behaviors (methods) of an existing class (called the parent class).\n",
        "# This way, the child class can reuse, extend, or modify the functionality of the parent class without starting from scratch.\n"
      ],
      "metadata": {
        "id": "xVtrcoNNeunW"
      },
      "execution_count": null,
      "outputs": []
    },
    {
      "cell_type": "markdown",
      "source": [
        "7.  What is polymorphism in OOP ?\n"
      ],
      "metadata": {
        "id": "rI7Jq0Sqfbuv"
      }
    },
    {
      "cell_type": "code",
      "source": [
        "# Ans - Polymorphism in OOP is the ability of different classes to respond to the same method or function call in different ways.\n",
        "# It allows objects of different types to be treated as objects of a common base type, and their specific method implementations are used based on the object's actual class.\n"
      ],
      "metadata": {
        "id": "oToaO4YoflSS"
      },
      "execution_count": null,
      "outputs": []
    },
    {
      "cell_type": "markdown",
      "source": [
        "8. How is encapsulation achieved in Python\n",
        "\n"
      ],
      "metadata": {
        "id": "91qNzztbf_8a"
      }
    },
    {
      "cell_type": "code",
      "source": [
        "# Ans -Encapsulation in Python is achieved by using private and protected access modifiers to hide the internal details of a class.\n",
        "# This means controlling access to the class’s attributes and methods, allowing only certain parts of the code to interact with them.\n",
        "# Private attributes are defined by prefixing the attribute name with double underscores (__), making them not directly accessible from outside the class.\n",
        "# Protected attributes are defined with a single underscore (_), indicating that they are meant for internal use within the class or subclasses, but they are still accessible."
      ],
      "metadata": {
        "id": "n38khCoogOV9"
      },
      "execution_count": null,
      "outputs": []
    },
    {
      "cell_type": "markdown",
      "source": [
        "9.  What is a constructor in Python ?"
      ],
      "metadata": {
        "id": "ygtGS-tBgfne"
      }
    },
    {
      "cell_type": "code",
      "source": [
        "# Ans - A constructor in Python is a special method called __init__, which is automatically called when a new object of a class is created. It is used to initialize the object's attributes"
      ],
      "metadata": {
        "id": "hplFseP7gkuQ"
      },
      "execution_count": null,
      "outputs": []
    },
    {
      "cell_type": "markdown",
      "source": [
        "10.  What are class and static methods in Python"
      ],
      "metadata": {
        "id": "nIbNe0FEgv6b"
      }
    },
    {
      "cell_type": "code",
      "source": [
        "# Ans - Class Methods and Static Methods in Python are special types of methods that have different uses from regular instance methods.\n",
        "#  here is simple difference between them.\n",
        "\n",
        "# Class Method:\n",
        "#    - A class method is a method that is bound to the class rather than an instance of the class\n",
        "#    - It is defined using the @classmethod decorator.\n",
        "#    - The first parameter is cls, which refers to the class itself, not an instance.\n",
        "# Static Method:\n",
        "#    - doesn't take self or cls as the first parameter.\n",
        "#    - it is defined using the @staticmethod decorator.\n",
        "#    - It behaves like a regular function but belongs to the class's namespace.\n"
      ],
      "metadata": {
        "id": "PP9W6HUzg1Rz"
      },
      "execution_count": 2,
      "outputs": []
    },
    {
      "cell_type": "markdown",
      "source": [
        "11. What is method overloading in Python ?"
      ],
      "metadata": {
        "id": "2jqkRNuohwNw"
      }
    },
    {
      "cell_type": "code",
      "source": [
        "# Ans - Method Overloading refers to the ability to define multiple methods with the same name but with different parameters.\n",
        "# However, it allows flexibility by using default arguments or variable-length arguments in a single method."
      ],
      "metadata": {
        "id": "znzGNQqXh0Tb"
      },
      "execution_count": null,
      "outputs": []
    },
    {
      "cell_type": "markdown",
      "source": [
        "12.  What is method overriding in OOP ?"
      ],
      "metadata": {
        "id": "A652YV7mh51R"
      }
    },
    {
      "cell_type": "code",
      "source": [
        "# Ans - Method Overriding in OOP is the process where a subclass provides its own implementation of a method\n",
        "# that is already defined in its superclass. The subclass method has the same name, parameters, and return\n",
        "# type as the method in the superclass, allowing it to replace the superclass method’s behavior."
      ],
      "metadata": {
        "id": "Um3ngI8Ni5A5"
      },
      "execution_count": null,
      "outputs": []
    },
    {
      "cell_type": "markdown",
      "source": [
        "13.  What is a property decorator in Python ?"
      ],
      "metadata": {
        "id": "e0P_9RPTkRza"
      }
    },
    {
      "cell_type": "code",
      "source": [
        "# Ans - it is used to define a method as a property, allowing it to be accessed like an atribute.\n",
        "# It provides a way to define getter, setter, and deleter methods for managing an attribute’s value while keeping the syntax clean and intuitive.\n",
        "\n"
      ],
      "metadata": {
        "id": "rdCiBM0SkZex"
      },
      "execution_count": 4,
      "outputs": []
    },
    {
      "cell_type": "markdown",
      "source": [
        "14. Why is polymorphism important in OOP ?"
      ],
      "metadata": {
        "id": "xLIVYpx2kt09"
      }
    },
    {
      "cell_type": "code",
      "source": [
        "# Ans - Polymorphism is important in OOP because it allows different classes to use the same method name while behaving differently.\n",
        "# This makes code more flexible and reusable, as you can treat objects of different types in a uniform way, leading to easier maintenance and extension of the program.\n",
        "# It also helps reduce code duplication by allowing the same method to work across multiple classes."
      ],
      "metadata": {
        "id": "dtDlQL93kRJW"
      },
      "execution_count": null,
      "outputs": []
    },
    {
      "cell_type": "markdown",
      "source": [
        "15. What is an abstract class in Python"
      ],
      "metadata": {
        "id": "-8bHOno0lEBt"
      }
    },
    {
      "cell_type": "code",
      "source": [
        "# Ans - An abstract class in Python is a class that cannot be instantiated on its own and is meant to be subclassed.\n",
        "# It can have abstract methods (methods without implementation) that must be implemented by its subclasses.\n",
        "# Abstract classes are defined using the abc (Abstract Base Class) module and the @abstractmethod decorator.\n",
        "# They provide a blueprint for other classes to follow."
      ],
      "metadata": {
        "id": "jAK2xMpKlNE3"
      },
      "execution_count": null,
      "outputs": []
    },
    {
      "cell_type": "markdown",
      "source": [
        "16.  What are the advantages of OOP ?"
      ],
      "metadata": {
        "id": "pZlzENQZleb4"
      }
    },
    {
      "cell_type": "code",
      "source": [
        "# Ans - Here are many advantages written below:\n",
        "# 1. OOP allows you to break down the program into smaller, manageable pieces\n",
        "# 2. You can reuse classes and objects across doifferent parts of a program r even in different projects, reducing the need to write repetitive code.\n",
        "# 3. As OOP helps organize code well, it becomes easier to scale and extend the application, adding new features without affecting existing code.\n",
        "# 4. It hides the internal implementation details of an object, exposing only necessary parts to the user, which protects the data from unwanted modifications.\n",
        "# 5. OOP allows focusing on the essential features of an object, ignoring complex details, which simplifies interaction with objects.\n",
        "# 6. It enables new classes to inherit properties and methods from existing classes, promoting code reusability and reducing redundancy.\n",
        "# 7. It allows objects of different classes to be treated as objects of a common superclass, providing flexibility in how methods are called and used.\n"
      ],
      "metadata": {
        "id": "m8Zu6JM5ljTi"
      },
      "execution_count": 6,
      "outputs": []
    },
    {
      "cell_type": "markdown",
      "source": [
        "17. What is the difference between a class variable and an instance variable ?"
      ],
      "metadata": {
        "id": "prqfgLdImmZT"
      }
    },
    {
      "cell_type": "code",
      "source": [
        "# Ans - Here’s the difference between a class variable and an instance variable:\n",
        "# 1. Class Variable:\n",
        "#  - Defined inside a class but outside any methods.\n",
        "#  - Shared by all instances (objects) of the class.\n",
        "#  - Changes to a class variable are reflected across all instances.\n",
        "# 2. Instance Variable:\n",
        "#  - Defined inside a method (usually __init__).\n",
        "#  - Specific to each object (instance) created from the class.\n",
        "#  - Each object has its own copy of the instance variable."
      ],
      "metadata": {
        "id": "-Dm2Jc88muIf"
      },
      "execution_count": null,
      "outputs": []
    },
    {
      "cell_type": "markdown",
      "source": [
        "18. What is multiple inheritance in Python ?"
      ],
      "metadata": {
        "id": "eqxaz9OmnPS_"
      }
    },
    {
      "cell_type": "code",
      "source": [
        "# Ans - Multiple Inheritance is a feature where a class can inherit attributes and methods from more than one parent class. This allows the child class to access features of all the parent classes."
      ],
      "metadata": {
        "id": "_z1eqPc2nY9b"
      },
      "execution_count": null,
      "outputs": []
    },
    {
      "cell_type": "markdown",
      "source": [
        "19. Explain the purpose of ‘’__str__’ and ‘__repr__’ ‘ methods in Python"
      ],
      "metadata": {
        "id": "UoriZqJGnhYg"
      }
    },
    {
      "cell_type": "code",
      "source": [
        "# Ans - The __str__ and __repr__ methods in Python are used to define how objects are represented as strings.\n",
        "# 1. __str__ method:\n",
        "#  - Used to return a readable, user-friendly string representation of an object.\n",
        "#  - It’s what you see when you print an object using the print() function.\n",
        "\n",
        "# 2. __repr__ method:\n",
        "#  - Used to return an official string representation of the object, mainly for debugging and development.\n",
        "#  - It should return a string that, if possible, can be used to recreate the object.\n"
      ],
      "metadata": {
        "id": "6ONrOOGgnqg2"
      },
      "execution_count": null,
      "outputs": []
    },
    {
      "cell_type": "markdown",
      "source": [
        "20.  What is the significance of the ‘super()’ function in Python ?"
      ],
      "metadata": {
        "id": "gR-SJ73eoK93"
      }
    },
    {
      "cell_type": "code",
      "source": [
        "# Ans - The super() function in Python is used to call a method from the parent class.\n",
        "# It allows a child class to access and use methods or constructors of its parent class, helping with code reuse and proper method resolution in inheritance."
      ],
      "metadata": {
        "id": "eXSwuavGoVIj"
      },
      "execution_count": null,
      "outputs": []
    },
    {
      "cell_type": "markdown",
      "source": [
        "21. What is the significance of the __del__ method in Python ?"
      ],
      "metadata": {
        "id": "wfW-NRnE1Kr9"
      }
    },
    {
      "cell_type": "code",
      "source": [
        "# Ans - The __del__ method in Python is a special method that is called when an object is about to be destroyed.\n",
        "# It is used to define cleanup actions, like closing files or releasing resources, before the object is deleted from memory."
      ],
      "metadata": {
        "id": "77CJIsPT1Q-e"
      },
      "execution_count": null,
      "outputs": []
    },
    {
      "cell_type": "markdown",
      "source": [
        "22. What is the difference between @staticmethod and @classmethod in Python ?"
      ],
      "metadata": {
        "id": "y2XJXTbP1c-B"
      }
    },
    {
      "cell_type": "code",
      "source": [
        "# Ans - (@staticmethod) is used to define a method that does not take self or cls as a parameter and does not depend on the class or instance.\n",
        "# It behaves like a regular function but belongs to the class’s namespace.\n",
        "\n",
        "# (@classmethod) is used to define a method that takes cls as the first parameter and works with the class itself rather than instances.\n",
        "# It can access or modify class-level data."
      ],
      "metadata": {
        "id": "m5V-TsQS2IeH"
      },
      "execution_count": null,
      "outputs": []
    },
    {
      "cell_type": "markdown",
      "source": [
        "23. How does polymorphism work in Python with inheritance ?"
      ],
      "metadata": {
        "id": "2Bt2BSpO2Tvm"
      }
    },
    {
      "cell_type": "code",
      "source": [
        "# Ans - polymorphism with inheritance works by allowing a child class to override methods from the parent class,\n",
        "# so the same method name can behave differently depending on the object calling it.\n",
        "# When a method is called on an object, Python checks the object’s class and uses the version of the method defined in that class, even if the method is originally defined in the parent class.\n"
      ],
      "metadata": {
        "id": "cM85nERP2ZOJ"
      },
      "execution_count": null,
      "outputs": []
    },
    {
      "cell_type": "markdown",
      "source": [
        "24.  What is method chaining in Python OOP ?"
      ],
      "metadata": {
        "id": "Gyr_sC3i2qL_"
      }
    },
    {
      "cell_type": "code",
      "source": [
        "# Ans - Method chaining OOP is a technique where multiple methods are called on the same object in a single line, one after another.\n",
        "# Each method returns the object itself (self) to allow the next method to be called."
      ],
      "metadata": {
        "id": "EEdJ8FV92w-4"
      },
      "execution_count": null,
      "outputs": []
    },
    {
      "cell_type": "markdown",
      "source": [
        "25. What is the purpose of the __call__ method in Python ?"
      ],
      "metadata": {
        "id": "Ulfm-XsL261a"
      }
    },
    {
      "cell_type": "code",
      "source": [
        "# Ans - The __call__ method in Python allows an object to be called like a function. When defined in a class,\n",
        "# it lets instances of that class be used with parentheses, triggering the __call__ method."
      ],
      "metadata": {
        "id": "ldLod_gO3BFm"
      },
      "execution_count": null,
      "outputs": []
    },
    {
      "cell_type": "markdown",
      "source": [
        "# **# Practical Questions**"
      ],
      "metadata": {
        "id": "V92L1jNf3LqN"
      }
    },
    {
      "cell_type": "markdown",
      "source": [
        "1.  Create a parent class Animal with a method speak() that prints a generic message. Create a child class Dog\n",
        "that overrides the speak() method to print \"Bark!\".\n"
      ],
      "metadata": {
        "id": "MDlDeiqg3OCg"
      }
    },
    {
      "cell_type": "code",
      "source": [
        "class Animal:\n",
        "    def speak(self):\n",
        "        print(\"The animal makes a sound.\")\n",
        "\n",
        "class Dog(Animal):\n",
        "    def speak(self):\n",
        "        print(\"Bark!\")\n",
        "\n",
        "# Example usage\n",
        "a = Animal()\n",
        "a.speak()  # Output: The animal makes a sound.\n",
        "\n",
        "d = Dog()\n",
        "d.speak()  # Output: Bark!\n"
      ],
      "metadata": {
        "colab": {
          "base_uri": "https://localhost:8080/"
        },
        "id": "wVeUSc9x3ZF3",
        "outputId": "9968ab53-3985-4856-aca5-1cae0f72d754"
      },
      "execution_count": 8,
      "outputs": [
        {
          "output_type": "stream",
          "name": "stdout",
          "text": [
            "The animal makes a sound.\n",
            "Bark!\n"
          ]
        }
      ]
    },
    {
      "cell_type": "markdown",
      "source": [
        "2. Write a program to create an abstract class Shape with a method area(). Derive classes Circle and Rectangle\n",
        "from it and implement the area() method in both."
      ],
      "metadata": {
        "id": "5ZvsV0Pf3glI"
      }
    },
    {
      "cell_type": "code",
      "source": [
        "from abc import ABC, abstractmethod\n",
        "import math\n",
        "\n",
        "# Abstract class\n",
        "class Shape(ABC):\n",
        "    @abstractmethod\n",
        "    def area(self):\n",
        "        pass\n",
        "\n",
        "# Circle class\n",
        "class Circle(Shape):\n",
        "    def __init__(self, radius):\n",
        "        self.radius = radius\n",
        "\n",
        "    def area(self):\n",
        "        return math.pi * self.radius * self.radius\n",
        "\n",
        "# Rectangle class\n",
        "class Rectangle(Shape):\n",
        "    def __init__(self, length, width):\n",
        "        self.length = length\n",
        "        self.width = width\n",
        "\n",
        "    def area(self):\n",
        "        return self.length * self.width\n",
        "\n",
        "# Example usage\n",
        "c = Circle(5)\n",
        "r = Rectangle(4, 6)\n",
        "\n",
        "print(\"Circle Area:\", c.area())\n",
        "print(\"Rectangle Area:\", r.area())"
      ],
      "metadata": {
        "colab": {
          "base_uri": "https://localhost:8080/"
        },
        "id": "xtvlLu5x3kiJ",
        "outputId": "b3321b76-fb8f-42e5-ad76-116f3a2db73b"
      },
      "execution_count": 9,
      "outputs": [
        {
          "output_type": "stream",
          "name": "stdout",
          "text": [
            "Circle Area: 78.53981633974483\n",
            "Rectangle Area: 24\n"
          ]
        }
      ]
    },
    {
      "cell_type": "markdown",
      "source": [
        "3. Implement a multi-level inheritance scenario where a class Vehicle has an attribute type. Derive a class Car\n",
        "and further derive a class ElectricCar that adds a battery attribute."
      ],
      "metadata": {
        "id": "6abxfvje4k9_"
      }
    },
    {
      "cell_type": "code",
      "source": [
        "# Base class\n",
        "class Vehicle:\n",
        "    def __init__(self, vehicle_type):\n",
        "        self.vehicle_type = vehicle_type\n",
        "\n",
        "# First-level derived class\n",
        "class Car(Vehicle):\n",
        "    def __init__(self, vehicle_type, brand):\n",
        "        super().__init__(vehicle_type)\n",
        "        self.brand = brand\n",
        "\n",
        "# Second-level derived class\n",
        "class ElectricCar(Car):\n",
        "    def __init__(self, vehicle_type, brand, battery_capacity):\n",
        "        super().__init__(vehicle_type, brand)\n",
        "        self.battery_capacity = battery_capacity\n",
        "\n",
        "    def display_info(self):\n",
        "        print(f\"Type: {self.vehicle_type}\")\n",
        "        print(f\"Brand: {self.brand}\")\n",
        "        print(f\"Battery: {self.battery_capacity} kWh\")\n",
        "\n",
        "# Example usage\n",
        "e_car = ElectricCar(\"Four-wheeler\", \"Tesla\", 75)\n",
        "e_car.display_info()"
      ],
      "metadata": {
        "id": "U76Eq3w-4p4o"
      },
      "execution_count": null,
      "outputs": []
    },
    {
      "cell_type": "markdown",
      "source": [
        "4. Demonstrate polymorphism by creating a base class Bird with a method fly(). Create two derived classes\n",
        "Sparrow and Penguin that override the fly() method."
      ],
      "metadata": {
        "id": "8ZVdVlMl4tFw"
      }
    },
    {
      "cell_type": "code",
      "source": [
        "# Base class\n",
        "class Bird:\n",
        "    def fly(self):\n",
        "        print(\"Birds can fly\")\n",
        "\n",
        "# Derived class Sparrow\n",
        "class Sparrow(Bird):\n",
        "    def fly(self):\n",
        "        print(\"Sparrow flies high in the sky\")\n",
        "\n",
        "# Derived class Penguin\n",
        "class Penguin(Bird):\n",
        "    def fly(self):\n",
        "        print(\"Penguins cannot fly\")\n",
        "\n",
        "# Function to demonstrate polymorphism\n",
        "def show_flying(bird):\n",
        "    bird.fly()\n",
        "\n",
        "# Creating objects\n",
        "sparrow = Sparrow()\n",
        "penguin = Penguin()\n",
        "\n",
        "# Calling the same method on different objects\n",
        "show_flying(sparrow)   # Output: Sparrow flies high in the sky\n",
        "show_flying(penguin)   # Output: Penguins cannot fly"
      ],
      "metadata": {
        "colab": {
          "base_uri": "https://localhost:8080/"
        },
        "id": "T_Xo1oJ44wsx",
        "outputId": "429644bb-2fef-423c-b211-ce744557a122"
      },
      "execution_count": 10,
      "outputs": [
        {
          "output_type": "stream",
          "name": "stdout",
          "text": [
            "Sparrow flies high in the sky\n",
            "Penguins cannot fly\n"
          ]
        }
      ]
    },
    {
      "cell_type": "markdown",
      "source": [
        "5. Write a program to demonstrate encapsulation by creating a class BankAccount with private attributes\n",
        "balance and methods to deposit, withdraw, and check balance"
      ],
      "metadata": {
        "id": "zcKsgkNS41M1"
      }
    },
    {
      "cell_type": "code",
      "source": [
        "class BankAccount:\n",
        "    def __init__(self, initial_balance=0):\n",
        "        self.__balance = initial_balance  # Private attribute\n",
        "\n",
        "    def deposit(self, amount):\n",
        "        if amount > 0:\n",
        "            self.__balance += amount\n",
        "            print(f\"Deposited: {amount}\")\n",
        "        else:\n",
        "            print(\"Deposit amount must be positive\")\n",
        "\n",
        "    def withdraw(self, amount):\n",
        "        if 0 < amount <= self.__balance:\n",
        "            self.__balance -= amount\n",
        "            print(f\"Withdrawn: {amount}\")\n",
        "        else:\n",
        "            print(\"Insufficient balance or invalid amount\")\n",
        "\n",
        "    def check_balance(self):\n",
        "        print(f\"Current Balance: {self.__balance}\")\n",
        "\n",
        "# Example usage\n",
        "account = BankAccount(1000)\n",
        "account.deposit(500)\n",
        "account.withdraw(300)\n",
        "account.check_balance()"
      ],
      "metadata": {
        "colab": {
          "base_uri": "https://localhost:8080/"
        },
        "id": "5sJoCriW45y5",
        "outputId": "10998d3f-2c4d-4df4-8678-ec52efca44e4"
      },
      "execution_count": 11,
      "outputs": [
        {
          "output_type": "stream",
          "name": "stdout",
          "text": [
            "Deposited: 500\n",
            "Withdrawn: 300\n",
            "Current Balance: 1200\n"
          ]
        }
      ]
    },
    {
      "cell_type": "markdown",
      "source": [
        "6. Demonstrate runtime polymorphism using a method play() in a base class Instrument. Derive classes Guitar\n",
        "and Piano that implement their own version of play()"
      ],
      "metadata": {
        "id": "ZTkGdZIr49vA"
      }
    },
    {
      "cell_type": "code",
      "source": [
        "# Base class\n",
        "class Instrument:\n",
        "    def play(self):\n",
        "        print(\"Playing the instrument\")\n",
        "\n",
        "# Derived class Guitar\n",
        "class Guitar(Instrument):\n",
        "    def play(self):\n",
        "        print(\"Strumming the guitar\")\n",
        "\n",
        "# Derived class Piano\n",
        "class Piano(Instrument):\n",
        "    def play(self):\n",
        "        print(\"Playing the piano\")\n",
        "\n",
        "# Function to demonstrate runtime polymorphism\n",
        "def perform_play(instrument):\n",
        "    instrument.play()\n",
        "\n",
        "# Creating objects\n",
        "guitar = Guitar()\n",
        "piano = Piano()\n",
        "\n",
        "# Calling the same method on different objects\n",
        "perform_play(guitar)  # Output: Strumming the guitar\n",
        "perform_play(piano)   # Output: Playing the piano"
      ],
      "metadata": {
        "colab": {
          "base_uri": "https://localhost:8080/"
        },
        "id": "lB2UMEQW5KlP",
        "outputId": "b618458d-ab85-43a6-8f34-f746417be1a5"
      },
      "execution_count": 12,
      "outputs": [
        {
          "output_type": "stream",
          "name": "stdout",
          "text": [
            "Strumming the guitar\n",
            "Playing the piano\n"
          ]
        }
      ]
    },
    {
      "cell_type": "markdown",
      "source": [
        "7. Create a class MathOperations with a class method add_numbers() to add two numbers and a static\n",
        "method subtract_numbers() to subtract two numbers."
      ],
      "metadata": {
        "id": "SCdm8LDh5Y1V"
      }
    },
    {
      "cell_type": "code",
      "source": [
        "class MathOperations:\n",
        "    @classmethod\n",
        "    def add_numbers(cls, num1, num2):\n",
        "        return num1 + num2\n",
        "\n",
        "    @staticmethod\n",
        "    def subtract_numbers(num1, num2):\n",
        "        return num1 - num2\n",
        "\n",
        "# Example usage\n",
        "result_add = MathOperations.add_numbers(10, 5)\n",
        "result_subtract = MathOperations.subtract_numbers(10, 5)\n",
        "\n",
        "print(f\"Sum: {result_add}\")           # Output: Sum: 15\n",
        "print(f\"Difference: {result_subtract}\") # Output: Difference: 5"
      ],
      "metadata": {
        "colab": {
          "base_uri": "https://localhost:8080/"
        },
        "id": "iBwKHesr5dAE",
        "outputId": "24326203-baae-4862-af25-418b902e2f56"
      },
      "execution_count": 13,
      "outputs": [
        {
          "output_type": "stream",
          "name": "stdout",
          "text": [
            "Sum: 15\n",
            "Difference: 5\n"
          ]
        }
      ]
    },
    {
      "cell_type": "markdown",
      "source": [
        "8. Implement a class Person with a class method to count the total number of persons created"
      ],
      "metadata": {
        "id": "5jwAmLk-5jro"
      }
    },
    {
      "cell_type": "code",
      "source": [
        "class Person:\n",
        "    # Class variable to count the total number of persons\n",
        "    total_persons = 0\n",
        "\n",
        "    def __init__(self, name, age):\n",
        "        self.name = name\n",
        "        self.age = age\n",
        "        Person.total_persons += 1  # Increment the count whenever a new person is created\n",
        "\n",
        "    @classmethod\n",
        "    def count_persons(cls):\n",
        "        return cls.total_persons  # Return the total count of persons\n",
        "\n",
        "# Example usage\n",
        "p1 = Person(\"Alice\", 30)\n",
        "p2 = Person(\"Bob\", 25)\n",
        "p3 = Person(\"Charlie\", 35)\n",
        "\n",
        "print(f\"Total persons created: {Person.count_persons()}\")  # Output: Total persons created: 3"
      ],
      "metadata": {
        "colab": {
          "base_uri": "https://localhost:8080/"
        },
        "id": "hmQLs6wr5piY",
        "outputId": "db16a6ec-3639-48d1-b1b8-2f764b7fe7e8"
      },
      "execution_count": 14,
      "outputs": [
        {
          "output_type": "stream",
          "name": "stdout",
          "text": [
            "Total persons created: 3\n"
          ]
        }
      ]
    },
    {
      "cell_type": "markdown",
      "source": [
        "9. Write a class Fraction with attributes numerator and denominator. Override the str method to display the\n",
        "fraction as \"numerator/denominator\"."
      ],
      "metadata": {
        "id": "mTw4hAg25tfi"
      }
    },
    {
      "cell_type": "code",
      "source": [
        "class Fraction:\n",
        "    def __init__(self, numerator, denominator):\n",
        "        self.numerator = numerator\n",
        "        self.denominator = denominator\n",
        "\n",
        "    def __str__(self):\n",
        "        return f\"{self.numerator}/{self.denominator}\"\n",
        "\n",
        "# Example usage\n",
        "fraction1 = Fraction(3, 4)\n",
        "fraction2 = Fraction(5, 8)\n",
        "\n",
        "print(f\"Fraction 1: {fraction1}\")  # Output: Fraction 1: 3/4\n",
        "print(f\"Fraction 2: {fraction2}\")  # Output: Fraction 2: 5/8"
      ],
      "metadata": {
        "colab": {
          "base_uri": "https://localhost:8080/"
        },
        "id": "kSlVRtOL5ygB",
        "outputId": "6db4f606-9f06-4d66-9146-311e79da03af"
      },
      "execution_count": 15,
      "outputs": [
        {
          "output_type": "stream",
          "name": "stdout",
          "text": [
            "Fraction 1: 3/4\n",
            "Fraction 2: 5/8\n"
          ]
        }
      ]
    },
    {
      "cell_type": "markdown",
      "source": [
        "10.  Demonstrate operator overloading by creating a class Vector and overriding the add method to add two\n",
        "vectors"
      ],
      "metadata": {
        "id": "EyZ6Urzj51ra"
      }
    },
    {
      "cell_type": "code",
      "source": [
        "class Vector:\n",
        "    def __init__(self, x, y):\n",
        "        self.x = x\n",
        "        self.y = y\n",
        "\n",
        "    # Overloading the + operator to add two vectors\n",
        "    def __add__(self, other):\n",
        "        return Vector(self.x + other.x, self.y + other.y)\n",
        "\n",
        "    # String representation of the vector\n",
        "    def __str__(self):\n",
        "        return f\"({self.x}, {self.y})\"\n",
        "\n",
        "# Example usage\n",
        "v1 = Vector(2, 3)\n",
        "v2 = Vector(4, 5)\n",
        "\n",
        "# Adding two vectors using the overloaded + operator\n",
        "v3 = v1 + v2\n",
        "\n",
        "print(f\"Vector 1: {v1}\")\n",
        "print(f\"Vector 2: {v2}\")\n",
        "print(f\"Sum of vectors: {v3}\")"
      ],
      "metadata": {
        "colab": {
          "base_uri": "https://localhost:8080/"
        },
        "id": "8SJDqsLj55p9",
        "outputId": "9f9b5d8e-1356-4cd5-c765-45db3aa8ced5"
      },
      "execution_count": 16,
      "outputs": [
        {
          "output_type": "stream",
          "name": "stdout",
          "text": [
            "Vector 1: (2, 3)\n",
            "Vector 2: (4, 5)\n",
            "Sum of vectors: (6, 8)\n"
          ]
        }
      ]
    },
    {
      "cell_type": "markdown",
      "source": [
        "11.  Create a class Person with attributes name and age. Add a method greet() that prints \"Hello, my name is\n",
        "{name} and I am {age} years old.\""
      ],
      "metadata": {
        "id": "Kp2odbsJ59ly"
      }
    },
    {
      "cell_type": "code",
      "source": [
        "class Person:\n",
        "    def __init__(self, name, age):\n",
        "        self.name = name\n",
        "        self.age = age\n",
        "\n",
        "    def greet(self):\n",
        "        print(f\"Hello, my name is {self.name} and I am {self.age} years old.\")\n",
        "\n",
        "# Example usage\n",
        "person1 = Person(\"Alice\", 30)\n",
        "person2 = Person(\"Bob\", 25)\n",
        "\n",
        "person1.greet()  # Output: Hello, my name is Alice and I am 30 years old.\n",
        "person2.greet()  # Output: Hello, my name is Bob and I am 25 years old."
      ],
      "metadata": {
        "colab": {
          "base_uri": "https://localhost:8080/"
        },
        "id": "dqqte-6D6Bol",
        "outputId": "9ceadf8a-4944-4147-c424-3b0853f8b5fa"
      },
      "execution_count": 17,
      "outputs": [
        {
          "output_type": "stream",
          "name": "stdout",
          "text": [
            "Hello, my name is Alice and I am 30 years old.\n",
            "Hello, my name is Bob and I am 25 years old.\n"
          ]
        }
      ]
    },
    {
      "cell_type": "markdown",
      "source": [
        "12.  Implement a class Student with attributes name and grades. Create a method average_grade() to compute\n",
        "the average of the grades"
      ],
      "metadata": {
        "id": "iXGsS1pP6FGH"
      }
    },
    {
      "cell_type": "code",
      "source": [
        "class Student:\n",
        "    def __init__(self, name, grades):\n",
        "        self.name = name\n",
        "        self.grades = grades\n",
        "\n",
        "    def average_grade(self):\n",
        "        if len(self.grades) == 0:\n",
        "            return 0\n",
        "        return sum(self.grades) / len(self.grades)\n",
        "\n",
        "# Example usage\n",
        "student1 = Student(\"Alice\", [90, 80, 85, 92])\n",
        "student2 = Student(\"Bob\", [70, 75, 80])\n",
        "\n",
        "print(f\"{student1.name}'s average grade: {student1.average_grade()}\")  # Output: Alice's average grade: 86.75\n",
        "print(f\"{student2.name}'s average grade: {student2.average_grade()}\")  # Output: Bob's average grade: 75.0\n",
        "\n"
      ],
      "metadata": {
        "colab": {
          "base_uri": "https://localhost:8080/"
        },
        "id": "ZpjcP3J16SwB",
        "outputId": "1ce4a474-842d-4a55-d10a-df91096f7a82"
      },
      "execution_count": 18,
      "outputs": [
        {
          "output_type": "stream",
          "name": "stdout",
          "text": [
            "Alice's average grade: 86.75\n",
            "Bob's average grade: 75.0\n"
          ]
        }
      ]
    },
    {
      "cell_type": "markdown",
      "source": [
        "13.  Create a class Rectangle with methods set_dimensions() to set the dimensions and area() to calculate the\n",
        "area."
      ],
      "metadata": {
        "id": "GlC1w8yY6Vx6"
      }
    },
    {
      "cell_type": "code",
      "source": [
        "class Rectangle:\n",
        "    def __init__(self):\n",
        "        self.length = 0\n",
        "        self.width = 0\n",
        "\n",
        "    def set_dimensions(self, length, width):\n",
        "        self.length = length\n",
        "        self.width = width\n",
        "\n",
        "    def area(self):\n",
        "        return self.length * self.width\n",
        "\n",
        "# Example usage\n",
        "rect = Rectangle()\n",
        "rect.set_dimensions(5, 3)\n",
        "print(f\"Area of rectangle: {rect.area()}\")  # Output: Area of rectangle: 15\n"
      ],
      "metadata": {
        "colab": {
          "base_uri": "https://localhost:8080/"
        },
        "id": "4VIBNrB66apR",
        "outputId": "cb57eca5-03bd-4040-b04d-44f17a50fac5"
      },
      "execution_count": 19,
      "outputs": [
        {
          "output_type": "stream",
          "name": "stdout",
          "text": [
            "Area of rectangle: 15\n"
          ]
        }
      ]
    },
    {
      "cell_type": "markdown",
      "source": [
        "14.  Create a class Employee with a method calculate_salary() that computes the salary based on hours worked\n",
        "and hourly rate. Create a derived class Manager that adds a bonus to the salary."
      ],
      "metadata": {
        "id": "iSPv5e906d29"
      }
    },
    {
      "cell_type": "code",
      "source": [
        "# Base class Employee\n",
        "class Employee:\n",
        "    def __init__(self, name, hours_worked, hourly_rate):\n",
        "        self.name = name\n",
        "        self.hours_worked = hours_worked\n",
        "        self.hourly_rate = hourly_rate\n",
        "\n",
        "    def calculate_salary(self):\n",
        "        return self.hours_worked * self.hourly_rate\n",
        "\n",
        "# Derived class Manager\n",
        "class Manager(Employee):\n",
        "    def __init__(self, name, hours_worked, hourly_rate, bonus):\n",
        "        super().__init__(name, hours_worked, hourly_rate)\n",
        "        self.bonus = bonus\n",
        "\n",
        "    def calculate_salary(self):\n",
        "        base_salary = super().calculate_salary()\n",
        "        return base_salary + self.bonus\n",
        "\n",
        "# Example usage\n",
        "employee = Employee(\"John\", 40, 15)  # 40 hours, $15 per hour\n",
        "manager = Manager(\"Alice\", 40, 20, 500)  # 40 hours, $20 per hour + $500 bonus\n",
        "\n",
        "print(f\"Employee salary: ${employee.calculate_salary()}\")  # Output: Employee salary: $600\n",
        "print(f\"Manager salary: ${manager.calculate_salary()}\")    # Output: Manager salary: $1300\n"
      ],
      "metadata": {
        "colab": {
          "base_uri": "https://localhost:8080/"
        },
        "id": "aF7DlANg6iDb",
        "outputId": "56c64635-0321-48de-ca1d-1ff034a26c52"
      },
      "execution_count": 21,
      "outputs": [
        {
          "output_type": "stream",
          "name": "stdout",
          "text": [
            "Employee salary: $600\n",
            "Manager salary: $1300\n"
          ]
        }
      ]
    },
    {
      "cell_type": "markdown",
      "source": [
        "15. Create a class Product with attributes name, price, and quantity. Implement a method total_price() that\n",
        "calculates the total price of the product.\n"
      ],
      "metadata": {
        "id": "jpDEA0I26m6W"
      }
    },
    {
      "cell_type": "code",
      "source": [
        "class Product:\n",
        "    def __init__(self, name, price, quantity):\n",
        "        self.name = name\n",
        "        self.price = price\n",
        "        self.quantity = quantity\n",
        "\n",
        "    def total_price(self):\n",
        "        return self.price * self.quantity\n",
        "\n",
        "# Example usage\n",
        "product1 = Product(\"Laptop\", 1000, 3)\n",
        "product2 = Product(\"Phone\", 500, 5)\n",
        "\n",
        "print(f\"Total price of {product1.name}: ${product1.total_price()}\")  # Output: Total price of Laptop: $3000\n",
        "print(f\"Total price of {product2.name}: ${product2.total_price()}\")  # Output: Total price of Phone: $2500\n"
      ],
      "metadata": {
        "colab": {
          "base_uri": "https://localhost:8080/"
        },
        "id": "KMPtJOAE6rnx",
        "outputId": "20a4bf62-950e-43c3-bd7e-e1a65ec21513"
      },
      "execution_count": 22,
      "outputs": [
        {
          "output_type": "stream",
          "name": "stdout",
          "text": [
            "Total price of Laptop: $3000\n",
            "Total price of Phone: $2500\n"
          ]
        }
      ]
    },
    {
      "cell_type": "markdown",
      "source": [
        "16. . Create a class Animal with an abstract method sound(). Create two derived classes Cow and Sheep that\n",
        "implement the sound() method."
      ],
      "metadata": {
        "id": "rp-ywlK86vMl"
      }
    },
    {
      "cell_type": "code",
      "source": [
        "from abc import ABC, abstractmethod\n",
        "\n",
        "# Abstract class Animal\n",
        "class Animal(ABC):\n",
        "    @abstractmethod\n",
        "    def sound(self):\n",
        "        pass\n",
        "\n",
        "# Derived class Cow\n",
        "class Cow(Animal):\n",
        "    def sound(self):\n",
        "        return \"Moo\"\n",
        "\n",
        "# Derived class Sheep\n",
        "class Sheep(Animal):\n",
        "    def sound(self):\n",
        "        return \"Baa\"\n",
        "\n",
        "# Example usage\n",
        "cow = Cow()\n",
        "sheep = Sheep()\n",
        "\n",
        "print(f\"Cow sound: {cow.sound()}\")  # Output: Cow sound: Moo\n",
        "print(f\"Sheep sound: {sheep.sound()}\")  # Output: Sheep sound: Baa\n"
      ],
      "metadata": {
        "colab": {
          "base_uri": "https://localhost:8080/"
        },
        "id": "nEjw51eW60NL",
        "outputId": "00e8e9d6-05e1-462a-c9b3-11ea7156563a"
      },
      "execution_count": 23,
      "outputs": [
        {
          "output_type": "stream",
          "name": "stdout",
          "text": [
            "Cow sound: Moo\n",
            "Sheep sound: Baa\n"
          ]
        }
      ]
    },
    {
      "cell_type": "markdown",
      "source": [
        "17.  Create a class Book with attributes title, author, and year_published. Add a method get_book_info() that\n",
        "returns a formatted string with the book's details."
      ],
      "metadata": {
        "id": "J95dYegP63uY"
      }
    },
    {
      "cell_type": "code",
      "source": [
        "class Book:\n",
        "    def __init__(self, title, author, year_published):\n",
        "        self.title = title\n",
        "        self.author = author\n",
        "        self.year_published = year_published\n",
        "\n",
        "    def get_book_info(self):\n",
        "        return f\"'{self.title}' by {self.author}, published in {self.year_published}\"\n",
        "\n",
        "# Example usage\n",
        "book1 = Book(\"To Kill a Mockingbird\", \"Harper Lee\", 1960)\n",
        "book2 = Book(\"1984\", \"George Orwell\", 1949)\n",
        "\n",
        "print(book1.get_book_info())  # Output: 'To Kill a Mockingbird' by Harper Lee, published in 1960\n",
        "print(book2.get_book_info())  # Output: '1984' by George Orwell, published in 1949"
      ],
      "metadata": {
        "id": "sQcfzQXz6-OQ"
      },
      "execution_count": null,
      "outputs": []
    },
    {
      "cell_type": "markdown",
      "source": [
        "18.  Create a class House with attributes address and price. Create a derived class Mansion that adds an\n",
        "attribute number_of_rooms"
      ],
      "metadata": {
        "id": "lNQscKz97CMV"
      }
    },
    {
      "cell_type": "code",
      "source": [
        "# Base class House\n",
        "class House:\n",
        "    def __init__(self, address, price):\n",
        "        self.address = address\n",
        "        self.price = price\n",
        "\n",
        "    def get_house_info(self):\n",
        "        return f\"Address: {self.address}, Price: ${self.price}\"\n",
        "\n",
        "# Derived class Mansion\n",
        "class Mansion(House):\n",
        "    def __init__(self, address, price, number_of_rooms):\n",
        "        super().__init__(address, price)\n",
        "        self.number_of_rooms = number_of_rooms\n",
        "\n",
        "    def get_mansion_info(self):\n",
        "        return f\"{self.get_house_info()}, Number of rooms: {self.number_of_rooms}\"\n",
        "\n",
        "# Example usage\n",
        "house = House(\"123 Main St\", 250000)\n",
        "mansion = Mansion(\"456 Luxury Ave\", 5000000, 10)\n",
        "\n",
        "print(house.get_house_info())  # Output: Address: 123 Main St, Price: $250000\n",
        "print(mansion.get_mansion_info())  # Output: Address: 456 Luxury Ave, Price: $5000000, Number of rooms: 10"
      ],
      "metadata": {
        "colab": {
          "base_uri": "https://localhost:8080/"
        },
        "id": "aQ2qA5co7GWU",
        "outputId": "3cd8706b-d98b-4c28-bc86-7d2a5ff9494d"
      },
      "execution_count": 24,
      "outputs": [
        {
          "output_type": "stream",
          "name": "stdout",
          "text": [
            "Address: 123 Main St, Price: $250000\n",
            "Address: 456 Luxury Ave, Price: $5000000, Number of rooms: 10\n"
          ]
        }
      ]
    },
    {
      "cell_type": "markdown",
      "source": [
        "# The End of Assignment.\n",
        "THANK YOU."
      ],
      "metadata": {
        "id": "shTeQ9NO7N-L"
      }
    }
  ]
}